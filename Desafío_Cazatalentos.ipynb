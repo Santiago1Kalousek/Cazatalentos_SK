{
  "nbformat": 4,
  "nbformat_minor": 0,
  "metadata": {
    "colab": {
      "provenance": []
    },
    "kernelspec": {
      "name": "python3",
      "display_name": "Python 3"
    },
    "language_info": {
      "name": "python"
    }
  },
  "cells": [
    {
      "cell_type": "markdown",
      "source": [
        "## Problema Cazatalentos buscando a “La verdadera mejor encestadora”"
      ],
      "metadata": {
        "id": "-1NTh-ij8xsk"
      }
    },
    {
      "cell_type": "code",
      "source": [
        "import  numpy as np\n",
        "import scipy.stats as stats\n",
        "import math"
      ],
      "metadata": {
        "id": "vubRD6Js9XyN"
      },
      "execution_count": null,
      "outputs": []
    },
    {
      "cell_type": "code",
      "source": [
        "np.random.seed(350003)\n",
        "\n",
        "# calcula cuantos encestes logra un jugadora con indice de enceste prob\n",
        "# haciendo qyt tiros libres\n",
        "\n",
        "def ftirar(prob, qty):\n",
        "  return sum(np.random.rand(qty) < prob)"
      ],
      "metadata": {
        "id": "ruXztfVt9bD9"
      },
      "execution_count": null,
      "outputs": []
    },
    {
      "cell_type": "markdown",
      "source": [
        "### Cazatalentos 1"
      ],
      "metadata": {
        "id": "47uFiOeD9HeT"
      }
    },
    {
      "cell_type": "code",
      "source": [
        "# defino los jugadoras\n",
        "mejor = 0.7 # Se considera a la mejor jugadora con un porcentaje de aciertos de 0.7\n",
        "peloton = np.array(range(501, 600)) / 1000 # Genero las 99 jugadoras restantes asumiendo que su porcentaje de aciertos va desde 0.51 a 0.6\n",
        "jugadoras = np.append(mejor, peloton)\n",
        "\n",
        "# vectorizo la funcion  ftirar\n",
        "\n",
        "vec_ftirar = np.vectorize(ftirar)\n",
        "\n",
        "primera_ganadora = 0\n",
        "\n",
        "for i in range(1000): # hago mil experimentos\n",
        "  vaciertos = vec_ftirar(jugadoras, 100) # 100 tiros libres cada jugadora\n",
        "  mejor_ronda = np.argmax(vaciertos)\n",
        "  if mejor_ronda == 0:\n",
        "    primera_ganadora += 1\n",
        "\n",
        "print(\"Cantidad de veces que gano la mejor jugadora: \",(primera_ganadora) )\n",
        "print(\"Porcentaje de efectividad de este metodo \", primera_ganadora/1000 )\n"
      ],
      "metadata": {
        "colab": {
          "base_uri": "https://localhost:8080/"
        },
        "id": "ooLbxZpo9jw2",
        "outputId": "0b442f51-29b0-48b1-e2b6-b2ab46dd4301"
      },
      "execution_count": null,
      "outputs": [
        {
          "output_type": "stream",
          "name": "stdout",
          "text": [
            "Cantidad de veces que gano la mejor jugadora:  611\n",
            "Porcentaje de efectividad de este metodo  0.611\n"
          ]
        }
      ]
    },
    {
      "cell_type": "markdown",
      "source": [
        "Según el calculo realizado, la probabilidad de hacer tirar 100 tiros a 100 jugadoras y que la mejor jugadora gane es de 0.611"
      ],
      "metadata": {
        "id": "5GIDUndN-co2"
      }
    },
    {
      "cell_type": "markdown",
      "source": [
        "Orden: C1"
      ],
      "metadata": {
        "id": "Lf7ehMCOBPPh"
      }
    },
    {
      "cell_type": "markdown",
      "source": [
        "###Cazatalentos 2"
      ],
      "metadata": {
        "id": "b_21AWcv_Xu0"
      }
    },
    {
      "cell_type": "code",
      "source": [
        "# defino los jugadoras\n",
        "mejor_2= 0.7\n",
        "# En este caso son 200 jugadoras las que participan de la prueba por lo que aumento la cantidad de valores en la variable peloton\n",
        "peloton_2= np.array(range(421, 620)) / 1000 # Dado que participan mas jugadoras asumo que el porcentaje de acierto de estas aumenta del rango (0.5 - 0.6) a (0.42 - 0.62)\n",
        "jugadoras_2 = np.append(mejor_2, peloton_2)\n",
        "\n",
        "\n",
        "# vectorizo la funcion  ftirar\n",
        "\n",
        "vec_ftirar_2 = np.vectorize(ftirar)\n",
        "\n",
        "primera_ganadora_2 = 0\n",
        "\n",
        "for i in range(1000): #  mil experimentos\n",
        "  vaciertos_2 = vec_ftirar_2(jugadoras_2, 100) # 100 tiros libres cada jugadora\n",
        "  mejor_ronda_2 = np.argmax(vaciertos_2)\n",
        "  if mejor_ronda_2 == 0:\n",
        "    primera_ganadora_2 += 1\n",
        "\n",
        "print(\"Cantidad de veces que gano la mejor jugadora: \",(primera_ganadora_2) )\n",
        "print(\"Porcentaje de efectividad de este metodo \", primera_ganadora_2/1000 )"
      ],
      "metadata": {
        "colab": {
          "base_uri": "https://localhost:8080/"
        },
        "id": "60wFEsxM_hJS",
        "outputId": "a26e2650-14b5-4724-babd-63b139d14deb"
      },
      "execution_count": null,
      "outputs": [
        {
          "output_type": "stream",
          "name": "stdout",
          "text": [
            "Cantidad de veces que gano la mejor jugadora:  468\n",
            "Porcentaje de efectividad de este metodo  0.468\n"
          ]
        }
      ]
    },
    {
      "cell_type": "markdown",
      "source": [
        "Para la cazatalentos 2 la probabilidad de encontrar a la mejora jugadora baja con respecto al caso de la cazatalentos 1, esto se debe a que al aumentar la cantidad de jugadoras que participan de la prueba aumenta la probabilidad de que una de ellas tenga suerte en la prueba y supere a la mejor jugadora. Esta baja en la efectividad tambien se debe al aumento en el porcentaje de enceste del peloton de 199 de jugadoras."
      ],
      "metadata": {
        "id": "5gun5B55Amrr"
      }
    },
    {
      "cell_type": "markdown",
      "source": [
        "Orden: C2 < C1"
      ],
      "metadata": {
        "id": "T9iKMQn1_h8J"
      }
    },
    {
      "cell_type": "markdown",
      "source": [
        "### Cazatalentos 3"
      ],
      "metadata": {
        "id": "9mcb4QN5_hmF"
      }
    },
    {
      "cell_type": "code",
      "source": [
        "# defino las jugadoras\n",
        "# Manteniendo los valores de pruebas previas asumo que la mejor jugadora tienen una probabilidad de acierto de 0.7 y la otra de 0.6\n",
        "jugadora_1 = 0.7\n",
        "jugadora_2 = 0.6\n",
        "ambas_jugadoras = np.append(jugadora_1, jugadora_2)\n",
        "\n",
        "# vectorizo la funcion  ftirar\n",
        "\n",
        "vec_ftirar_3 = np.vectorize(ftirar)\n",
        "\n",
        "primera_ganadora_3 = 0\n",
        "\n",
        "for i in range(1000): #  mil experimentos\n",
        "  vaciertos_3 = vec_ftirar_3(ambas_jugadoras, 100) # 100 tiros libres cada jugadora\n",
        "  mejor_ronda_3 = np.argmax(vaciertos_3)\n",
        "  if mejor_ronda_3 == 0:\n",
        "    primera_ganadora_3 += 1\n",
        "\n",
        "print(\"Cantidad de veces que gano la mejor jugadora: \",(primera_ganadora_3) )\n",
        "print(\"Porcentaje de efectividad de este metodo \", primera_ganadora_3/1000 )"
      ],
      "metadata": {
        "colab": {
          "base_uri": "https://localhost:8080/"
        },
        "id": "v8pkKc5yBkI7",
        "outputId": "29555f34-6831-47ee-ad24-c67e71e3fe0b"
      },
      "execution_count": null,
      "outputs": [
        {
          "output_type": "stream",
          "name": "stdout",
          "text": [
            "Cantidad de veces que gano la mejor jugadora:  940\n",
            "Porcentaje de efectividad de este metodo  0.94\n"
          ]
        }
      ]
    },
    {
      "cell_type": "markdown",
      "source": [
        "En este caso al ser solo 2 jugadoras aumenta la probabilidad de que la jugadora con mayor porcentaje de acierto gane la prueba, dado que solo tiene que superar a 1 jugadora y la probabilidad de que una jugadora del peloton tenga mas suerte y le gane disminuye por que es solo una.\n",
        "Por lo tanto hay 94% de probabilidad que tenga 0.7 de acierto"
      ],
      "metadata": {
        "id": "HcHiSMhkBk-h"
      }
    },
    {
      "cell_type": "markdown",
      "source": [
        "Orden: C2 < C1 < C3"
      ],
      "metadata": {
        "id": "e5vDrCu_Bk1W"
      }
    },
    {
      "cell_type": "markdown",
      "source": [
        "### Cazatalentos 4"
      ],
      "metadata": {
        "id": "lUU5GN0FCu8Z"
      }
    },
    {
      "cell_type": "code",
      "source": [
        "# defino las jugadoras\n",
        "mejor_4= 0.7\n",
        "peloton_4= np.array(range(501, 600)) / 1000 # son 100 jugadoras\n",
        "jugadoras_4 = np.append(mejor_4, peloton_4)\n",
        "\n",
        "# vectorizo la funcion  ftirar\n",
        "\n",
        "vec_ftirar_4 = np.vectorize(ftirar)\n",
        "\n",
        "primera_ganadora_4 = 0\n",
        "\n",
        "for i in range(1000): # mil experimentos\n",
        "  vaciertos_4 = vec_ftirar_4(jugadoras_4, 10) # 10 tiros libres cada jugadora\n",
        "  mejor_ronda_4 = np.argmax(vaciertos_4)\n",
        "  if mejor_ronda_4 == 0:\n",
        "    primera_ganadora_4 += 1\n",
        "\n",
        "print(\"Cantidad de veces que gano la mejor jugadora: \",(primera_ganadora_4) )\n",
        "print(\"Porcentaje de efectividad de este metodo \", primera_ganadora_4/1000 )"
      ],
      "metadata": {
        "colab": {
          "base_uri": "https://localhost:8080/"
        },
        "id": "IIIOLZxACxwz",
        "outputId": "5a8fb39b-c995-4be1-8768-e0b54433ab5d"
      },
      "execution_count": null,
      "outputs": [
        {
          "output_type": "stream",
          "name": "stdout",
          "text": [
            "Cantidad de veces que gano la mejor jugadora:  163\n",
            "Porcentaje de efectividad de este metodo  0.163\n"
          ]
        }
      ]
    },
    {
      "cell_type": "markdown",
      "source": [
        "En este caso al disminuir la cantidad de tiros libres que tiene que tirar cada jugadora aumenta la probabilidad de que una de las 99 jugadoras dentro del peloton tenga suerte y obtenga una mayor puntuación que la mejor jugadora"
      ],
      "metadata": {
        "id": "4uwASN-jC20P"
      }
    },
    {
      "cell_type": "markdown",
      "source": [
        "Orden: C4 < C2 < C1 < C3"
      ],
      "metadata": {
        "id": "3Hmq8Hh_C2pI"
      }
    },
    {
      "cell_type": "markdown",
      "source": [
        "### Cazatalentos 5"
      ],
      "metadata": {
        "id": "XsIv9KweDwZ-"
      }
    },
    {
      "cell_type": "markdown",
      "source": [
        "Al hacer un primer corte donde solo se queda con las 5 mejores jugadoras, se debe revisar la probabilidad de que la mejor jugadora haya quedado dentro de esas 5 y avanzado a las rondas 2 y 3"
      ],
      "metadata": {
        "id": "z2r5Cs_9EQjI"
      }
    },
    {
      "cell_type": "code",
      "source": [
        "# Defino los Parámetros necesarios\n",
        "num_simulaciones = 1000  # Número de simulaciones\n",
        "num_jugadoras = 99  # Número de otras jugadoras\n",
        "num_tiros = 100  # Número de tiros\n",
        "porcentaje_mejor = 0.70  # Porcentaje de acierto de la mejor jugadora\n",
        "porcentaje_otras = np.random.uniform(0.5, 0.6, num_jugadoras)  # Porcentaje de acierto de las otras jugadoras\n",
        "num_mejores = 5  # Número de mejores jugadoras que deseas contar\n",
        "\n",
        "# Función para simular una ronda de tiros y contar cuántas veces la mejor jugadora está entre las mejores 5 resultados\n",
        "def simular_ronda():\n",
        "    tiros_mejor = np.random.rand(num_tiros) < porcentaje_mejor\n",
        "    tiros_otras = np.random.rand(num_jugadoras, num_tiros) < porcentaje_otras[:, np.newaxis]\n",
        "    aciertos_mejor = np.sum(tiros_mejor)\n",
        "    aciertos_otras = np.sum(tiros_otras, axis=1)\n",
        "    mejores = np.argsort(aciertos_otras)[-num_mejores:]\n",
        "    return aciertos_mejor >= np.min(aciertos_otras[mejores])\n",
        "\n",
        "# Realizar las mil simulaciones\n",
        "exitos = sum([simular_ronda() for _ in range(num_simulaciones)])\n",
        "probabilidad_5 = exitos / num_simulaciones\n",
        "\n",
        "print(\"Probabilidad de que la mejor tiradora esté entre las 5 mejores:\", probabilidad_5)"
      ],
      "metadata": {
        "colab": {
          "base_uri": "https://localhost:8080/"
        },
        "id": "T9aMz6QCD2Oz",
        "outputId": "240e551a-cee5-4f0e-f646-cc5466d0e3cc"
      },
      "execution_count": null,
      "outputs": [
        {
          "output_type": "stream",
          "name": "stdout",
          "text": [
            "Probabilidad de que la mejor tiradora esté entre las 5 mejores: 0.908\n"
          ]
        }
      ]
    },
    {
      "cell_type": "code",
      "source": [
        "# Ahora de las 5 quiero saber la probabilidad de elegir la mejor entre esas 5\n",
        "# defino los jugadoras\n",
        "mejor = 0.7 # Se considera a la mejor jugadora con un porcentaje de aciertos de 0.7\n",
        "peloton = [0.6, 0.6, 0.6, 0.6] # dado que pasaron el corte asumo que tienen el porcentaje maximo de acierto dentro del peloton\n",
        "jugadoras = np.append(mejor, peloton)\n",
        "\n",
        "# vectorizo la funcion  ftirar\n",
        "\n",
        "vec_ftirar = np.vectorize(ftirar)\n",
        "\n",
        "primera_ganadora = 0\n",
        "\n",
        "for i in range(1000): # hago mil experimentos\n",
        "  vaciertos = vec_ftirar(jugadoras, 300) # 300 tiros libres en tota cada jugadora\n",
        "  mejor_ronda = np.argmax(vaciertos)\n",
        "  if mejor_ronda == 0:\n",
        "    primera_ganadora += 1\n",
        "\n",
        "print(\"Cantidad de veces que gano la mejor jugadora: \",(primera_ganadora) )\n",
        "probabilidad_ganadora = primera_ganadora / 1000\n",
        "print(\"Porcentaje de efectividad \", probabilidad_ganadora)\n"
      ],
      "metadata": {
        "colab": {
          "base_uri": "https://localhost:8080/"
        },
        "id": "pYVyT3XaD7gj",
        "outputId": "4c182ce1-c14e-4274-8744-b97e93d1ab5e"
      },
      "execution_count": null,
      "outputs": [
        {
          "output_type": "stream",
          "name": "stdout",
          "text": [
            "Cantidad de veces que gano la mejor jugadora:  988\n",
            "Porcentaje de efectividad  0.988\n"
          ]
        }
      ]
    },
    {
      "cell_type": "code",
      "source": [
        "# Para obtener la probabilida de este metodo debo multiplicar las 2 probabilidades obtenidas, es decir la probabilidad de que pase el primer corte por la probabilidad de que supere a las otras 4 jugadoras\n",
        "\n",
        "print(\"porcentaje de efectividad total del metodo: \", probabilidad_5 * probabilidad_ganadora)"
      ],
      "metadata": {
        "colab": {
          "base_uri": "https://localhost:8080/"
        },
        "id": "k6yF_dXUHzjN",
        "outputId": "ddd6e416-a976-4bef-ff4f-1936d0ea2865"
      },
      "execution_count": null,
      "outputs": [
        {
          "output_type": "stream",
          "name": "stdout",
          "text": [
            "porcentaje de efectividad total del metodo:  0.897104\n"
          ]
        }
      ]
    },
    {
      "cell_type": "markdown",
      "source": [
        "Orden: C4 < C2 < C1 < C5 < C3\n"
      ],
      "metadata": {
        "id": "nPAYCrZqD1IP"
      }
    },
    {
      "cell_type": "markdown",
      "source": [
        "### Cazatalentos 6"
      ],
      "metadata": {
        "id": "Wvi7KdG1FhNK"
      }
    },
    {
      "cell_type": "code",
      "source": [
        "\n",
        "\n",
        "\"\"\"\n",
        "El caso del cazatalentos 6 se podria pensar de forma bayesiana sabiendo que la jugadora elegida logro encestar 80 de 100 tiros\n",
        "cual es la probabilidad que sea  la jugadora con porcentaje de acierto 0.7, es decir, la mejor jugadora y no una de las 99 jugadoras con\n",
        "porcentaje de acierto de 0.5 a 0.6\n",
        "\"\"\"\n",
        "# Generar 99 valores de probabilidad aleatorios en el rango [0.5, 0.6]\n",
        "probabilidades_peloton = np.random.uniform(0.5, 0.6, 99)\n",
        "\n",
        "# Probabilidad de elegir a la jugadora con 0.7 de acierto\n",
        "P_mejor= 1 / 100\n",
        "\n",
        "# Probabilidad de que la jugadora acierte 80 tiros si tiene un 0.7 de acierto\n",
        "P_80_dado_mejor = stats.binom.pmf(80, 100, 0.7)\n",
        "print(P_80_dado_mejor)\n",
        "\n",
        "# Probabilidad de que la jugadora acierte 80 tiros si no tiene un 0.7 de acierto\n",
        "P_80_dado_peloton = 0\n",
        "for p in probabilidades_peloton:\n",
        "    P_80_dado_peloton += stats.binom.pmf(80, 100, p)\n",
        "\n",
        "print(P_80_dado_peloton)\n",
        "\n",
        "# Probabilidad de no elegir a la jugadora con 0.7 de acierto\n",
        "P_peloton = 99 / 100\n",
        "\n",
        "# Con el teorema de Bayes se calcula la probabilidad de que sea la mejor jugadora dado que encesto 80 tiros\n",
        "P_mejor_dado_80 = (P_80_dado_mejor * P_mejor) / ((P_80_dado_mejor * P_mejor) + (P_80_dado_peloton * P_peloton))\n",
        "\n",
        "print(\"La probabilidad de que la jugadora elegida tenga 0.7 de acierto dado que acertó 80 tiros es {}\".format((P_mejor_dado_80)))"
      ],
      "metadata": {
        "colab": {
          "base_uri": "https://localhost:8080/"
        },
        "id": "msDUB56wJ78P",
        "outputId": "e1e24cf2-bacb-440f-b5a8-e3708999a8c2"
      },
      "execution_count": null,
      "outputs": [
        {
          "output_type": "stream",
          "name": "stdout",
          "text": [
            "0.007575644925726648\n",
            "0.00011344278072628454\n",
            "La probabilidad de que la jugadora elegida tenga 0.7 de acierto dado que acertó 80 tiros es 0.40282098713109493\n"
          ]
        }
      ]
    },
    {
      "cell_type": "markdown",
      "source": [
        "Orden: C4 < C6 < C2 < C1 < C5 < C3"
      ],
      "metadata": {
        "id": "Fm9_pxZvLwZl"
      }
    },
    {
      "cell_type": "markdown",
      "source": [
        "### Cazatalentos 7"
      ],
      "metadata": {
        "id": "Y0vyfkxJMLr2"
      }
    },
    {
      "cell_type": "code",
      "source": [
        "# Parámetros\n",
        "num_simulaciones = 1000  # Número de simulaciones\n",
        "num_jugadoras = 99  # Número de otras jugadoras\n",
        "num_tiros = 100  # Número de tiros\n",
        "porcentaje_mejor = 0.70  # Porcentaje de acierto de la mejor jugadora\n",
        "porcentaje_otras = np.random.uniform(0.5, 0.6, num_jugadoras)  # Porcentaje de acierto de las otras jugadoras\n",
        "num_mejores = 5  # quiero evaluar si queda entre las 5 mejores\n",
        "\n",
        "# Función para simular una ronda de tiros y contar cuántas veces la mejor jugadora está entre las mejores\n",
        "def simular_ronda():\n",
        "    tiros_mejor = np.random.rand(num_tiros) < porcentaje_mejor\n",
        "    tiros_otras = np.random.rand(num_jugadoras, num_tiros) < porcentaje_otras[:, np.newaxis]\n",
        "    aciertos_mejor = np.sum(tiros_mejor)\n",
        "    aciertos_otras = np.sum(tiros_otras, axis=1)\n",
        "    mejores = np.argsort(aciertos_otras)[-num_mejores:]\n",
        "    return aciertos_mejor >= np.min(aciertos_otras[mejores])\n",
        "\n",
        "# Hago las 1000 simulaciones y me quedo con la probabilidad de que quede entre las 5 mejores, esto es lo mismo que en el cazatalentos 5\n",
        "exitos = sum([simular_ronda() for _ in range(num_simulaciones)])\n",
        "probabilidad_5_mejores = exitos / num_simulaciones\n",
        "\n",
        "print(\"Probabilidad de que la mejor tiradora esté entre las 5 mejores:\", probabilidad_5_mejores)\n",
        "\n",
        "# Parámetros\n",
        "num_simulaciones = 1000  # Número de simulaciones\n",
        "num_jugadoras = 5  # Número de jugadoras\n",
        "num_tiros = 100  # Número de tiros\n",
        "\n",
        "# Función para simular una ronda de tiros y contar cuántas veces la mejor jugadora encesta más\n",
        "def simular_ronda():\n",
        "    porcentajes_acierto = np.array([0.7, 0.6, 0.6, 0.6, 0.6])  # Porcentajes de acierto de las jugadoras, supongo 0.6 de porcentaje de acierto para las otras 4 jugadoras\n",
        "    tiros = np.random.rand(num_jugadoras, num_tiros) < porcentajes_acierto[:, np.newaxis]\n",
        "    aciertos = np.sum(tiros, axis=1)\n",
        "    return aciertos.argmax() == 0\n",
        "\n",
        "# Hago las 1000 simulaciones y evaluo la probabilidad de que la mejor jugadora sea la que obtenga el mejor resultado en esta segunda tanda de tiros\n",
        "exitos = sum([simular_ronda() for _ in range(num_simulaciones)])\n",
        "probabilidad_la_mejor = exitos / num_simulaciones\n",
        "\n",
        "print(\"Probabilidad de que la jugadora con el porcentaje de acierto más alto sea la que más encesta:\", probabilidad_la_mejor)\n",
        "\n",
        "print(\"La probabilidad total del metodo sería la multiplicación entre ambas probabilidades: \", probabilidad_5_mejores * probabilidad_la_mejor )"
      ],
      "metadata": {
        "colab": {
          "base_uri": "https://localhost:8080/"
        },
        "id": "3LweHMGSQDPF",
        "outputId": "a32af321-ec7a-4bea-807a-efbafa464528"
      },
      "execution_count": null,
      "outputs": [
        {
          "output_type": "stream",
          "name": "stdout",
          "text": [
            "Probabilidad de que la mejor tiradora esté entre las 5 mejores: 0.909\n",
            "Probabilidad de que la jugadora con el porcentaje de acierto más alto sea la que más encesta: 0.825\n",
            "La probabilidad total del metodo sería la multiplicación entre ambas probabilidades:  0.749925\n"
          ]
        }
      ]
    },
    {
      "cell_type": "markdown",
      "source": [
        "Orden: C4 < C6 < C2 < C1 < C7 < C5 < C3"
      ],
      "metadata": {
        "id": "7G4T6gn9RE3F"
      }
    },
    {
      "cell_type": "markdown",
      "source": [
        "### Cazatalentos 8"
      ],
      "metadata": {
        "id": "CyoPZofOQGdg"
      }
    },
    {
      "cell_type": "markdown",
      "source": [
        "Dado que en el enunciado se informa que la jugadora seleccionada tenia una probabilidad de acierto de 0.79 tomo eso como indicador del metodo de seleccion para comparar con los otros cazatalentos"
      ],
      "metadata": {
        "id": "VTAq9UVmMZJD"
      }
    },
    {
      "cell_type": "markdown",
      "source": [
        "Orden: C4 < C6 < C2 < C1 < C8 < C5 < C3 < C8"
      ],
      "metadata": {
        "id": "0IZBgq30Rqan"
      }
    },
    {
      "cell_type": "markdown",
      "source": [
        "### Cazatalentos 9"
      ],
      "metadata": {
        "id": "MPR4pbpbRjBf"
      }
    },
    {
      "cell_type": "code",
      "source": [
        "# Dado que tengo la información de todos los modelos o todas las rondas de tiro de la jugadora hago un promedio del porcentaje de encestes entre todas las rondas para obtener un estimador mas real\n",
        "# Valores de encestes en cada ronda\n",
        "aciertos = np.array([68, 74, 78, 70, 68, 63, 80, 68, 67, 65])\n",
        "\n",
        "# Calcular la media de encestes\n",
        "media_aciertos= np.mean(aciertos)\n",
        "\n",
        "print(\"Media del porcentaje de acierto segun las 10 rondas ejecutadas:\", media_aciertos/100)\n",
        "\n"
      ],
      "metadata": {
        "colab": {
          "base_uri": "https://localhost:8080/"
        },
        "id": "SmCw_Tf8intm",
        "outputId": "e5bc0e2d-5b8d-4ea4-d192-a4b370d69bd3"
      },
      "execution_count": null,
      "outputs": [
        {
          "output_type": "stream",
          "name": "stdout",
          "text": [
            "Media del porcentaje de acierto segun las 10 rondas ejecutadas: 0.701\n"
          ]
        }
      ]
    },
    {
      "cell_type": "markdown",
      "source": [
        "Basandome en la probabilidad de acierto obtenida en cada metodo puedo establecer una orden para las jugadoras seleccionadas:\n",
        "\n",
        "Orden: C4 < C6 < C2 < C1 < C9 < C7  < C5 < C3 < C8"
      ],
      "metadata": {
        "id": "ACW4o7MCSg3h"
      }
    }
  ]
}